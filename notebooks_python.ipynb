{
  "metadata": {
    "kernelspec": {
      "name": "python",
      "display_name": "Python (Pyodide)",
      "language": "python"
    },
    "language_info": {
      "codemirror_mode": {
        "name": "python",
        "version": 3
      },
      "file_extension": ".py",
      "mimetype": "text/x-python",
      "name": "python",
      "nbconvert_exporter": "python",
      "pygments_lexer": "ipython3",
      "version": "3.8"
    }
  },
  "nbformat_minor": 5,
  "nbformat": 4,
  "cells": [
    {
      "cell_type": "code",
      "source": "# Assuming you have already imported yfinance and extracted Tesla stock data into tesla_data\n\n# Reset the index of the dataframe\ntesla_data.reset_index(inplace=True)\n\n# Display the first five rows of the dataframe\nprint(tesla_data.head())\n",
      "metadata": {},
      "execution_count": null,
      "outputs": [],
      "id": "1827bce9-d856-46fc-927c-baae66efa19b"
    },
    {
      "cell_type": "code",
      "source": "# Assuming you have already scraped and loaded Tesla revenue data into tesla_revenue\n\n# Display the last five rows of the dataframe\nprint(tesla_revenue.tail())\n",
      "metadata": {},
      "execution_count": null,
      "outputs": [],
      "id": "8f548583-57be-4717-adfe-c6e9d92d97ed"
    },
    {
      "cell_type": "code",
      "source": "\n# Assuming you have already imported yfinance and extracted GameStop stock data into gme_data\n\n# Reset the index of the dataframe\ngme_data.reset_index(inplace=True)\n\n# Display the first five rows of the dataframe\nprint(gme_data.head())\n```",
      "metadata": {},
      "execution_count": null,
      "outputs": [],
      "id": "4dc463f7-064a-48f2-97ac-b474ff84d99e"
    },
    {
      "cell_type": "code",
      "source": "# Assuming you have already scraped and loaded GameStop revenue data into gme_revenue\n\n# Display the last five rows of the dataframe\nprint(gme_revenue.tail())\n",
      "metadata": {},
      "execution_count": null,
      "outputs": [],
      "id": "41b95498-2a83-44a5-ac11-6d2986ad7c34"
    },
    {
      "cell_type": "code",
      "source": "# Assuming you have defined the make_graph function\n\n# Plot the Tesla Stock Data\nmake_graph(tesla_data['Date'], tesla_data['Close'], title=\"Tesla Stock Price\")\n\n# Display the graph\nplt.show()",
      "metadata": {},
      "execution_count": null,
      "outputs": [],
      "id": "6f4b0146-700c-4fa8-a437-09fb9c1bd8eb"
    },
    {
      "cell_type": "code",
      "source": "# Assuming you have defined the make_graph function\n\n# Plot the GameStop Stock Data\nmake_graph(gme_data['Date'], gme_data['Close'], title=\"GameStop Stock Price\")\n\n# Display the graph\nplt.show()\n",
      "metadata": {},
      "execution_count": null,
      "outputs": [],
      "id": "cb7fd218-8225-4de9-8caf-35f5ce59217d"
    }
  ]
}